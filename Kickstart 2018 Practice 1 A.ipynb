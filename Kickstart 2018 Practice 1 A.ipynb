{
 "cells": [
  {
   "cell_type": "markdown",
   "metadata": {},
   "source": [
    "# Kickstart 2018 Practice Round\n",
    "\n",
    "## Problem A. GBus count\n",
    "\n",
    "[URL](https://code.google.com/codejam/contest/dashboard?c=4374486#s=p1)"
   ]
  },
  {
   "cell_type": "markdown",
   "metadata": {},
   "source": [
    "If we are to naively go through every GBus for each cities to determine the number of GBuses that passes through it, then we have a complexity of $O(NP)$.\n",
    "\n",
    "An alternative, is to process the $N$ GBuses first into a vector of (city, num_buses) ordered by city number whereby the number of GBuses that passes through it is different from the city before.\n",
    "For example, if the input is (bracketing added to pair up the start and end city for ease of understanding):-\n",
    "\n",
    "`(10 15) (5 12) (40 55) (1 10) (25 35) (45 50) (20 28) (27 35) (15 40) (4 5)`,\n",
    "\n",
    "then we will get the optimised vector to be \n",
    "\n",
    "`[[1, 1], [4, 2], [5, 3], [6, 2], [10, 3], [11, 2], [13, 1], [15, 2], [16, 1], [20, 2], [25, 3], [27, 4], [29, 3], [36, 1], [40, 2], [41, 1], [45, 2], [51, 1], [56, 0]]`.\n",
    "\n",
    "This optimization has $O(N \\lg N)$ time complexity. Subsequently, we just need to find the last city in this vector which is before each city in question. This has $O(\\lg N)$ complexity each.\n",
    "\n",
    "The result is thus a $O((N + P) \\lg N)$ complexity algorithm, which for decently sized $N$ will be faster than naive."
   ]
  },
  {
   "cell_type": "code",
   "execution_count": 1,
   "metadata": {},
   "outputs": [
    {
     "data": {
      "text/plain": [
       "count_city_buses (generic function with 1 method)"
      ]
     },
     "execution_count": 1,
     "metadata": {},
     "output_type": "execute_result"
    }
   ],
   "source": [
    "count_city_buses(buses, city) = buses[searchsortedlast(buses, city, by = elem -> elem[1])][2]"
   ]
  },
  {
   "cell_type": "code",
   "execution_count": 2,
   "metadata": {},
   "outputs": [
    {
     "data": {
      "text/plain": [
       "add_bus (generic function with 1 method)"
      ]
     },
     "execution_count": 2,
     "metadata": {},
     "output_type": "execute_result"
    }
   ],
   "source": [
    "function add_bus(acc, bus)\n",
    "    start_city = bus[1]\n",
    "    i = searchsortedfirst(acc, start_city, by = elem -> elem[1])\n",
    "    (i > length(acc) || acc[i][1] != start_city) && insert!(acc, i, [start_city, acc[i - 1][2]])\n",
    "    foreach(k -> acc[k][2] += 1, i:length(acc))\n",
    "    \n",
    "    finish_city = bus[2] + 1\n",
    "    i = searchsortedfirst(acc, finish_city, by = elem -> elem[1])\n",
    "    (i > length(acc) || acc[i][1] != finish_city) && insert!(acc, i, [finish_city, acc[i - 1][2]])\n",
    "    foreach(k -> acc[k][2] -= 1, i:length(acc))\n",
    "\n",
    "    return acc\n",
    "end"
   ]
  },
  {
   "cell_type": "code",
   "execution_count": 3,
   "metadata": {},
   "outputs": [
    {
     "data": {
      "text/plain": [
       "optimise (generic function with 1 method)"
      ]
     },
     "execution_count": 3,
     "metadata": {},
     "output_type": "execute_result"
    }
   ],
   "source": [
    "optimise(buses) = foldl(add_bus, [[1, 0]], buses)"
   ]
  },
  {
   "cell_type": "code",
   "execution_count": 4,
   "metadata": {},
   "outputs": [
    {
     "data": {
      "text/plain": [
       "solve_case (generic function with 1 method)"
      ]
     },
     "execution_count": 4,
     "metadata": {},
     "output_type": "execute_result"
    }
   ],
   "source": [
    "function solve_case(fin)\n",
    "    N = read_int(fin)\n",
    "    buses_cities = read_int_vector(fin)\n",
    "    buses = optimise([(buses_cities[2i - 1], buses_cities[2i]) for i in 1:N])\n",
    "    \n",
    "    P = read_int(fin)\n",
    "    cities = [read_int(fin) for i in 1:P]\n",
    "    \n",
    "    read_string(fin) # for empty line\n",
    "\n",
    "    return write_list((count_city_buses(buses, city) for city in cities))\n",
    "end"
   ]
  },
  {
   "cell_type": "markdown",
   "metadata": {},
   "source": [
    "Generate solution files."
   ]
  },
  {
   "cell_type": "code",
   "execution_count": 5,
   "metadata": {},
   "outputs": [
    {
     "name": "stdout",
     "output_type": "stream",
     "text": [
      "Notebook `common helper.ipynb` has been successfully included.\n"
     ]
    }
   ],
   "source": [
    "using NBInclude\n",
    "nbinclude(\"common helper.ipynb\")"
   ]
  },
  {
   "cell_type": "code",
   "execution_count": 6,
   "metadata": {
    "scrolled": true
   },
   "outputs": [
    {
     "name": "stdout",
     "output_type": "stream",
     "text": [
      "Solving 2 cases...\n",
      "Solved case 1.\n",
      "Solved case 2.\n",
      "Done! datasets/sample.out created.\n"
     ]
    }
   ],
   "source": [
    "create_codejam_solution_file(\"sample\", solve_case)\n",
    "#passed"
   ]
  },
  {
   "cell_type": "code",
   "execution_count": 7,
   "metadata": {
    "scrolled": true
   },
   "outputs": [
    {
     "name": "stdout",
     "output_type": "stream",
     "text": [
      "Solving 6 cases...\n",
      "Solved case 1.\n",
      "Solved case 2.\n",
      "Solved case 3.\n",
      "Solved case 4.\n",
      "Solved case 5.\n",
      "Solved case 6.\n",
      "Done! datasets/small.out created.\n"
     ]
    }
   ],
   "source": [
    "create_codejam_solution_file(\"small\", solve_case)\n",
    "#passed"
   ]
  },
  {
   "cell_type": "code",
   "execution_count": 8,
   "metadata": {},
   "outputs": [
    {
     "name": "stdout",
     "output_type": "stream",
     "text": [
      "Solving 6 cases...\n",
      "Solved case 1.\n",
      "Solved case 2.\n",
      "Solved case 3.\n",
      "Solved case 4.\n",
      "Solved case 5.\n",
      "Solved case 6.\n",
      "Done! datasets/large.out created.\n"
     ]
    }
   ],
   "source": [
    "create_codejam_solution_file(\"large\", solve_case)\n",
    "#passed"
   ]
  }
 ],
 "metadata": {
  "hide_input": false,
  "kernelspec": {
   "display_name": "Julia 0.6.2",
   "language": "julia",
   "name": "julia-0.6"
  },
  "language_info": {
   "file_extension": ".jl",
   "mimetype": "application/julia",
   "name": "julia",
   "version": "0.6.2"
  }
 },
 "nbformat": 4,
 "nbformat_minor": 2
}
