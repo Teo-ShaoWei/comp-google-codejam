{
 "cells": [
  {
   "cell_type": "markdown",
   "metadata": {},
   "source": [
    "# Kickstart 2017 Practice Round\n",
    "\n",
    "## Problem C. Sherlock and Parentheses\n",
    "\n",
    "[URL](https://codejam.withgoogle.com/codejam/contest/6304486/dashboard#s=p2)"
   ]
  },
  {
   "cell_type": "markdown",
   "metadata": {},
   "source": [
    "We realize that the way to maximize balanced substrings is to put consecutive brackets, i.e. `()()()`. Calculating the number of balanced substrings of $n$ consecutive brackets is just the $n$-th triangle number $\\frac{n(n + 1)}{2}$."
   ]
  },
  {
   "cell_type": "code",
   "execution_count": 1,
   "metadata": {},
   "outputs": [
    {
     "data": {
      "text/plain": [
       "max_num_balanced_substrings (generic function with 1 method)"
      ]
     },
     "execution_count": 1,
     "metadata": {},
     "output_type": "execute_result"
    }
   ],
   "source": [
    "function max_num_balanced_substrings(L::Int, R::Int)\n",
    "    n = min(L, R)\n",
    "    return n * (n + 1) ÷ 2\n",
    "end"
   ]
  },
  {
   "cell_type": "code",
   "execution_count": 2,
   "metadata": {},
   "outputs": [
    {
     "data": {
      "text/plain": [
       "solve_case (generic function with 1 method)"
      ]
     },
     "execution_count": 2,
     "metadata": {},
     "output_type": "execute_result"
    }
   ],
   "source": [
    "function solve_case(fin)\n",
    "    L, R = read_int_vector(fin)\n",
    "    return max_num_balanced_substrings(L, R)\n",
    "end"
   ]
  },
  {
   "cell_type": "markdown",
   "metadata": {},
   "source": [
    "Generate solution files."
   ]
  },
  {
   "cell_type": "code",
   "execution_count": 3,
   "metadata": {},
   "outputs": [
    {
     "name": "stdout",
     "output_type": "stream",
     "text": [
      "Notebook `common helper.ipynb` has been successfully included.\n"
     ]
    }
   ],
   "source": [
    "using NBInclude\n",
    "nbinclude(\"common helper.ipynb\")"
   ]
  },
  {
   "cell_type": "code",
   "execution_count": 4,
   "metadata": {},
   "outputs": [
    {
     "name": "stdout",
     "output_type": "stream",
     "text": [
      "Solving 3 cases...\n",
      "Solved case 1.\n",
      "Solved case 2.\n",
      "Solved case 3.\n",
      "Done! datasets/sample.out created.\n"
     ]
    }
   ],
   "source": [
    "create_codejam_solution_file(\"sample\", solve_case)\n",
    "#passed"
   ]
  },
  {
   "cell_type": "code",
   "execution_count": 5,
   "metadata": {
    "scrolled": true
   },
   "outputs": [
    {
     "name": "stdout",
     "output_type": "stream",
     "text": [
      "Solving 100 cases...\n",
      "Solved case 1.\n",
      "Solved case 2.\n",
      "Solved case 3.\n",
      "Solved case 4.\n",
      "Solved case 5.\n",
      "Solved case 6.\n",
      "Solved case 7.\n",
      "Solved case 8.\n",
      "Solved case 9.\n",
      "Solved case 10.\n",
      "Solved case 11.\n",
      "Solved case 12.\n",
      "Solved case 13.\n",
      "Solved case 14.\n",
      "Solved case 15.\n",
      "Solved case 16.\n",
      "Solved case 17.\n",
      "Solved case 18.\n",
      "Solved case 19.\n",
      "Solved case 20.\n",
      "Solved case 21.\n",
      "Solved case 22.\n",
      "Solved case 23.\n",
      "Solved case 24.\n",
      "Solved case 25.\n",
      "Solved case 26.\n",
      "Solved case 27.\n",
      "Solved case 28.\n",
      "Solved case 29.\n",
      "Solved case 30.\n",
      "Solved case 31.\n",
      "Solved case 32.\n",
      "Solved case 33.\n",
      "Solved case 34.\n",
      "Solved case 35.\n",
      "Solved case 36.\n",
      "Solved case 37.\n",
      "Solved case 38.\n",
      "Solved case 39.\n",
      "Solved case 40.\n",
      "Solved case 41.\n",
      "Solved case 42.\n",
      "Solved case 43.\n",
      "Solved case 44.\n",
      "Solved case 45.\n",
      "Solved case 46.\n",
      "Solved case 47.\n",
      "Solved case 48.\n",
      "Solved case 49.\n",
      "Solved case 50.\n",
      "Solved case 51.\n",
      "Solved case 52.\n",
      "Solved case 53.\n",
      "Solved case 54.\n",
      "Solved case 55.\n",
      "Solved case 56.\n",
      "Solved case 57.\n",
      "Solved case 58.\n",
      "Solved case 59.\n",
      "Solved case 60.\n",
      "Solved case 61.\n",
      "Solved case 62.\n",
      "Solved case 63.\n",
      "Solved case 64.\n",
      "Solved case 65.\n",
      "Solved case 66.\n",
      "Solved case 67.\n",
      "Solved case 68.\n",
      "Solved case 69.\n",
      "Solved case 70.\n",
      "Solved case 71.\n",
      "Solved case 72.\n",
      "Solved case 73.\n",
      "Solved case 74.\n",
      "Solved case 75.\n",
      "Solved case 76.\n",
      "Solved case 77.\n",
      "Solved case 78.\n",
      "Solved case 79.\n",
      "Solved case 80.\n",
      "Solved case 81.\n",
      "Solved case 82.\n",
      "Solved case 83.\n",
      "Solved case 84.\n",
      "Solved case 85.\n",
      "Solved case 86.\n",
      "Solved case 87.\n",
      "Solved case 88.\n",
      "Solved case 89.\n",
      "Solved case 90.\n",
      "Solved case 91.\n",
      "Solved case 92.\n",
      "Solved case 93.\n",
      "Solved case 94.\n",
      "Solved case 95.\n",
      "Solved case 96.\n",
      "Solved case 97.\n",
      "Solved case 98.\n",
      "Solved case 99.\n",
      "Solved case 100.\n",
      "Done! datasets/small.out created.\n"
     ]
    }
   ],
   "source": [
    "create_codejam_solution_file(\"small\", solve_case)\n",
    "#passed"
   ]
  },
  {
   "cell_type": "code",
   "execution_count": 6,
   "metadata": {
    "scrolled": true
   },
   "outputs": [
    {
     "name": "stdout",
     "output_type": "stream",
     "text": [
      "Solving 100 cases...\n",
      "Solved case 1.\n",
      "Solved case 2.\n",
      "Solved case 3.\n",
      "Solved case 4.\n",
      "Solved case 5.\n",
      "Solved case 6.\n",
      "Solved case 7.\n",
      "Solved case 8.\n",
      "Solved case 9.\n",
      "Solved case 10.\n",
      "Solved case 11.\n",
      "Solved case 12.\n",
      "Solved case 13.\n",
      "Solved case 14.\n",
      "Solved case 15.\n",
      "Solved case 16.\n",
      "Solved case 17.\n",
      "Solved case 18.\n",
      "Solved case 19.\n",
      "Solved case 20.\n",
      "Solved case 21.\n",
      "Solved case 22.\n",
      "Solved case 23.\n",
      "Solved case 24.\n",
      "Solved case 25.\n",
      "Solved case 26.\n",
      "Solved case 27.\n",
      "Solved case 28.\n",
      "Solved case 29.\n",
      "Solved case 30.\n",
      "Solved case 31.\n",
      "Solved case 32.\n",
      "Solved case 33.\n",
      "Solved case 34.\n",
      "Solved case 35.\n",
      "Solved case 36.\n",
      "Solved case 37.\n",
      "Solved case 38.\n",
      "Solved case 39.\n",
      "Solved case 40.\n",
      "Solved case 41.\n",
      "Solved case 42.\n",
      "Solved case 43.\n",
      "Solved case 44.\n",
      "Solved case 45.\n",
      "Solved case 46.\n",
      "Solved case 47.\n",
      "Solved case 48.\n",
      "Solved case 49.\n",
      "Solved case 50.\n",
      "Solved case 51.\n",
      "Solved case 52.\n",
      "Solved case 53.\n",
      "Solved case 54.\n",
      "Solved case 55.\n",
      "Solved case 56.\n",
      "Solved case 57.\n",
      "Solved case 58.\n",
      "Solved case 59.\n",
      "Solved case 60.\n",
      "Solved case 61.\n",
      "Solved case 62.\n",
      "Solved case 63.\n",
      "Solved case 64.\n",
      "Solved case 65.\n",
      "Solved case 66.\n",
      "Solved case 67.\n",
      "Solved case 68.\n",
      "Solved case 69.\n",
      "Solved case 70.\n",
      "Solved case 71.\n",
      "Solved case 72.\n",
      "Solved case 73.\n",
      "Solved case 74.\n",
      "Solved case 75.\n",
      "Solved case 76.\n",
      "Solved case 77.\n",
      "Solved case 78.\n",
      "Solved case 79.\n",
      "Solved case 80.\n",
      "Solved case 81.\n",
      "Solved case 82.\n",
      "Solved case 83.\n",
      "Solved case 84.\n",
      "Solved case 85.\n",
      "Solved case 86.\n",
      "Solved case 87.\n",
      "Solved case 88.\n",
      "Solved case 89.\n",
      "Solved case 90.\n",
      "Solved case 91.\n",
      "Solved case 92.\n",
      "Solved case 93.\n",
      "Solved case 94.\n",
      "Solved case 95.\n",
      "Solved case 96.\n",
      "Solved case 97.\n",
      "Solved case 98.\n",
      "Solved case 99.\n",
      "Solved case 100.\n",
      "Done! datasets/large.out created.\n"
     ]
    }
   ],
   "source": [
    "create_codejam_solution_file(\"large\", solve_case)\n",
    "#passed"
   ]
  }
 ],
 "metadata": {
  "hide_input": false,
  "kernelspec": {
   "display_name": "Julia 0.6.2",
   "language": "julia",
   "name": "julia-0.6"
  },
  "language_info": {
   "file_extension": ".jl",
   "mimetype": "application/julia",
   "name": "julia",
   "version": "0.6.2"
  }
 },
 "nbformat": 4,
 "nbformat_minor": 2
}
