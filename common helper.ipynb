{
 "cells": [
  {
   "cell_type": "code",
   "execution_count": null,
   "metadata": {
    "collapsed": true
   },
   "outputs": [],
   "source": [
    "function create_codejam_solution_file(input_file_title, solve_case::Function)\n",
    "    open(joinpath(\"datasets\", \"$(input_file_title).in\")) do fin\n",
    "        open(joinpath(\"datasets\", \"$(input_file_title).out\"), \"w\") do fout\n",
    "            T = parse(fin)\n",
    "            \n",
    "            println(\"Solving $T cases...\")\n",
    "            \n",
    "            for case in 1:T\n",
    "                solution = solve_case(fin)\n",
    "                println(fout, \"Case #$(case): $(solution)\")\n",
    "                println(\"Solved case $(case).\"); flush(STDOUT)\n",
    "            end\n",
    "        end\n",
    "    end\n",
    "    println(\"Done! $(joinpath(\"datasets\", \"$(input_file_title).out\")) created.\")\n",
    "end"
   ]
  },
  {
   "cell_type": "code",
   "execution_count": null,
   "metadata": {
    "collapsed": true
   },
   "outputs": [],
   "source": [
    "read_string(fin::IO) = readline(fin)\n",
    "\n",
    "read_int(fin::IO) = parse(readline(fin))\n",
    "\n",
    "read_symbol(fin::IO) = Symbol(readline(fin))\n",
    "\n",
    "read_int_vector(fin::IO) = parse.(split(readline(fin)))\n",
    "\n",
    "read_char_vector(fin::IO) = collect(readline(fin))"
   ]
  },
  {
   "cell_type": "code",
   "execution_count": null,
   "metadata": {
    "collapsed": true
   },
   "outputs": [],
   "source": [
    "readlines_strings(fin::IO, N::Int) = (read_string(fin) for i in 1:N)\n",
    "\n",
    "readlines_int_vectors(fin::IO, N::Int) = (read_int_vector(fin) for i in 1:N)\n",
    "\n",
    "readlines_char_vectors(fin::IO, N::Int) = (read_char_vector(fin) for i in 1:N)"
   ]
  },
  {
   "cell_type": "code",
   "execution_count": null,
   "metadata": {},
   "outputs": [],
   "source": [
    "write_list(v) = join(v, \" \")\n",
    "\n",
    "write_bool(b) = uppercase(string(b))"
   ]
  },
  {
   "cell_type": "markdown",
   "metadata": {},
   "source": [
    "This Jupyter notebook is meant to be included in another using\n",
    "\n",
    "```julia\n",
    "using NBInclude\n",
    "nbinclude(joinpath(\"common helper.ipynb\"))\n",
    "```\n",
    "\n",
    "Usually we are processing on 3 data sets, namely `sample.in`, `small.in` and `large.in`.\n",
    "To get each result, run each of the following lines.\n",
    "\n",
    "```julia\n",
    "create_codejam_solution_file(\"sample\", solve_case)\n",
    "create_codejam_solution_file(\"small\", solve_case)\n",
    "create_codejam_solution_file(\"large\", solve_case)\n",
    "```"
   ]
  },
  {
   "cell_type": "code",
   "execution_count": null,
   "metadata": {},
   "outputs": [],
   "source": [
    "println(\"Notebook `common helper.ipynb` has been successfully included.\")"
   ]
  }
 ],
 "metadata": {
  "hide_input": false,
  "kernelspec": {
   "display_name": "Julia 0.6.2",
   "language": "julia",
   "name": "julia-0.6"
  },
  "language_info": {
   "file_extension": ".jl",
   "mimetype": "application/julia",
   "name": "julia",
   "version": "0.6.2"
  }
 },
 "nbformat": 4,
 "nbformat_minor": 2
}
