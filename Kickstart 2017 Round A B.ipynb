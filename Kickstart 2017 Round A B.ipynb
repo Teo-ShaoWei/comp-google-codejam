{
 "cells": [
  {
   "cell_type": "markdown",
   "metadata": {},
   "source": [
    "# Kickstart 2017 Round A\n",
    "\n",
    "## Problem B. Patterns Overlap\n",
    "\n",
    "[URL](https://codejam.withgoogle.com/codejam/contest/8284486/dashboard#s=p1)"
   ]
  },
  {
   "cell_type": "markdown",
   "metadata": {},
   "source": [
    "Need to use memoization or dynamic programming, and need to be careful with the boundary cases when one string is only left with wildcard while the other is spent. Instead of creating strings repeatedly, using index to move around manually gives better time complexity at the expense of a code that is very controlled."
   ]
  },
  {
   "cell_type": "code",
   "execution_count": 1,
   "metadata": {},
   "outputs": [
    {
     "data": {
      "text/plain": [
       "is_match (generic function with 1 method)"
      ]
     },
     "execution_count": 1,
     "metadata": {},
     "output_type": "execute_result"
    }
   ],
   "source": [
    "function is_match(cv1, cv2)\n",
    "    memory = Dict((0, 0) => true)\n",
    "    \n",
    "    flag1 = true\n",
    "    for (i1, c1) in enumerate(cv1)\n",
    "        (c1 != '?') && (flag1 = false)\n",
    "        memory[(i1, 0)] = flag1\n",
    "    end\n",
    "    \n",
    "    flag2 = true\n",
    "    for (i2, c2) in enumerate(cv2)\n",
    "        (c2 != '?') && (flag2 = false)\n",
    "        memory[(0, i2)] = flag2\n",
    "    end\n",
    "    \n",
    "    for (i1, c1) in enumerate(cv1), (i2, c2) in enumerate(cv2)\n",
    "        if c1 == '?' && c2 == '?'\n",
    "            memory[(i1, i2)] = memory[(i1 - 1, i2 - 1)] || memory[(i1 - 1, i2)] || memory[(i1, i2 - 1)]\n",
    "        elseif c1 == '?'\n",
    "            memory[(i1, i2)] = memory[(i1 - 1, i2 - 1)] || memory[(i1 - 1, i2)]\n",
    "        elseif c2 == '?'\n",
    "            memory[(i1, i2)] = memory[(i1 - 1, i2 - 1)] || memory[(i1, i2 - 1)]\n",
    "        else\n",
    "            memory[(i1, i2)] = memory[(i1 - 1, i2 - 1)] && (c1 == c2)\n",
    "        end\n",
    "    end\n",
    "    \n",
    "    return memory[(length(cv1), length(cv2))]\n",
    "end"
   ]
  },
  {
   "cell_type": "code",
   "execution_count": 2,
   "metadata": {},
   "outputs": [
    {
     "data": {
      "text/plain": [
       "replace_star_with_qnmark (generic function with 1 method)"
      ]
     },
     "execution_count": 2,
     "metadata": {},
     "output_type": "execute_result"
    }
   ],
   "source": [
    "# Replace stars in the char vector with 4 question marks each, representing 0 or 1 char match.\n",
    "function replace_star_with_qnmark(s)\n",
    "    result = Char[]\n",
    "    for c in s\n",
    "        c == '*' ? append!(result, \"????\") : push!(result, c)\n",
    "    end\n",
    "    return result\n",
    "end"
   ]
  },
  {
   "cell_type": "code",
   "execution_count": 3,
   "metadata": {},
   "outputs": [
    {
     "data": {
      "text/plain": [
       "solve_case (generic function with 1 method)"
      ]
     },
     "execution_count": 3,
     "metadata": {},
     "output_type": "execute_result"
    }
   ],
   "source": [
    "function solve_case(fin)\n",
    "    chars1 = replace_star_with_qnmark(read_char_vector(fin))\n",
    "    chars2 = replace_star_with_qnmark(read_char_vector(fin))\n",
    "    return write_bool(is_match(chars1, chars2))\n",
    "end"
   ]
  },
  {
   "cell_type": "markdown",
   "metadata": {},
   "source": [
    "Generate solution files."
   ]
  },
  {
   "cell_type": "code",
   "execution_count": 4,
   "metadata": {},
   "outputs": [
    {
     "name": "stdout",
     "output_type": "stream",
     "text": [
      "Notebook `common helper.ipynb` has been successfully included.\n"
     ]
    }
   ],
   "source": [
    "using NBInclude\n",
    "nbinclude(\"common helper.ipynb\")"
   ]
  },
  {
   "cell_type": "code",
   "execution_count": 5,
   "metadata": {
    "scrolled": true
   },
   "outputs": [
    {
     "name": "stdout",
     "output_type": "stream",
     "text": [
      "Solving 3 cases...\n",
      "Solved case 1.\n",
      "Solved case 2.\n",
      "Solved case 3.\n",
      "Done! datasets/sample.out created.\n"
     ]
    }
   ],
   "source": [
    "create_codejam_solution_file(\"sample\", solve_case)\n",
    "#passed"
   ]
  },
  {
   "cell_type": "code",
   "execution_count": 6,
   "metadata": {
    "scrolled": true
   },
   "outputs": [
    {
     "name": "stdout",
     "output_type": "stream",
     "text": [
      "Solving 50 cases...\n",
      "Solved case 1.\n",
      "Solved case 2.\n",
      "Solved case 3.\n",
      "Solved case 4.\n",
      "Solved case 5.\n",
      "Solved case 6.\n",
      "Solved case 7.\n",
      "Solved case 8.\n",
      "Solved case 9.\n",
      "Solved case 10.\n",
      "Solved case 11.\n",
      "Solved case 12.\n",
      "Solved case 13.\n",
      "Solved case 14.\n",
      "Solved case 15.\n",
      "Solved case 16.\n",
      "Solved case 17.\n",
      "Solved case 18.\n",
      "Solved case 19.\n",
      "Solved case 20.\n",
      "Solved case 21.\n",
      "Solved case 22.\n",
      "Solved case 23.\n",
      "Solved case 24.\n",
      "Solved case 25.\n",
      "Solved case 26.\n",
      "Solved case 27.\n",
      "Solved case 28.\n",
      "Solved case 29.\n",
      "Solved case 30.\n",
      "Solved case 31.\n",
      "Solved case 32.\n",
      "Solved case 33.\n",
      "Solved case 34.\n",
      "Solved case 35.\n",
      "Solved case 36.\n",
      "Solved case 37.\n",
      "Solved case 38.\n",
      "Solved case 39.\n",
      "Solved case 40.\n",
      "Solved case 41.\n",
      "Solved case 42.\n",
      "Solved case 43.\n",
      "Solved case 44.\n",
      "Solved case 45.\n",
      "Solved case 46.\n",
      "Solved case 47.\n",
      "Solved case 48.\n",
      "Solved case 49.\n",
      "Solved case 50.\n",
      "Done! datasets/small.out created.\n"
     ]
    }
   ],
   "source": [
    "create_codejam_solution_file(\"small\", solve_case)\n",
    "#passed"
   ]
  },
  {
   "cell_type": "code",
   "execution_count": 7,
   "metadata": {
    "scrolled": false
   },
   "outputs": [
    {
     "name": "stdout",
     "output_type": "stream",
     "text": [
      "Solving 50 cases...\n",
      "Solved case 1.\n",
      "Solved case 2.\n",
      "Solved case 3.\n",
      "Solved case 4.\n",
      "Solved case 5.\n",
      "Solved case 6.\n",
      "Solved case 7.\n",
      "Solved case 8.\n",
      "Solved case 9.\n",
      "Solved case 10.\n",
      "Solved case 11.\n",
      "Solved case 12.\n",
      "Solved case 13.\n",
      "Solved case 14.\n",
      "Solved case 15.\n",
      "Solved case 16.\n",
      "Solved case 17.\n",
      "Solved case 18.\n",
      "Solved case 19.\n",
      "Solved case 20.\n",
      "Solved case 21.\n",
      "Solved case 22.\n",
      "Solved case 23.\n",
      "Solved case 24.\n",
      "Solved case 25.\n",
      "Solved case 26.\n",
      "Solved case 27.\n",
      "Solved case 28.\n",
      "Solved case 29.\n",
      "Solved case 30.\n",
      "Solved case 31.\n",
      "Solved case 32.\n",
      "Solved case 33.\n",
      "Solved case 34.\n",
      "Solved case 35.\n",
      "Solved case 36.\n",
      "Solved case 37.\n",
      "Solved case 38.\n",
      "Solved case 39.\n",
      "Solved case 40.\n",
      "Solved case 41.\n",
      "Solved case 42.\n",
      "Solved case 43.\n",
      "Solved case 44.\n",
      "Solved case 45.\n",
      "Solved case 46.\n",
      "Solved case 47.\n",
      "Solved case 48.\n",
      "Solved case 49.\n",
      "Solved case 50.\n",
      "Done! datasets/large.out created.\n"
     ]
    }
   ],
   "source": [
    "create_codejam_solution_file(\"large\", solve_case)\n",
    "#passed"
   ]
  }
 ],
 "metadata": {
  "hide_input": false,
  "kernelspec": {
   "display_name": "Julia 0.6.2",
   "language": "julia",
   "name": "julia-0.6"
  },
  "language_info": {
   "file_extension": ".jl",
   "mimetype": "application/julia",
   "name": "julia",
   "version": "0.6.2"
  }
 },
 "nbformat": 4,
 "nbformat_minor": 2
}
